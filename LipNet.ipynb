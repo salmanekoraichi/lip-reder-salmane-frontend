{
 "cells": [
  {
   "cell_type": "markdown",
   "id": "a3573a47-3689-4668-b62f-5c8451b2b4e9",
   "metadata": {
    "tags": []
   },
   "source": [
    "# 0. Install and Import Dependencies"
   ]
  },
  {
   "cell_type": "code",
   "execution_count": 5,
   "id": "ddfbccbe-41ae-4c23-98b1-a13868e2b499",
   "metadata": {
    "scrolled": true,
    "tags": []
   },
   "outputs": [
    {
     "name": "stdout",
     "output_type": "stream",
     "text": [
      "Package                      Version\n",
      "---------------------------- ---------\n",
      "absl-py                      2.1.0\n",
      "altair                       5.4.1\n",
      "asttokens                    2.4.1\n",
      "astunparse                   1.6.3\n",
      "attrs                        24.2.0\n",
      "beautifulsoup4               4.12.3\n",
      "blinker                      1.8.2\n",
      "cachetools                   5.3.3\n",
      "certifi                      2024.2.2\n",
      "charset-normalizer           3.3.2\n",
      "click                        8.1.7\n",
      "colorama                     0.4.6\n",
      "comm                         0.2.1\n",
      "contourpy                    1.2.1\n",
      "cycler                       0.12.1\n",
      "debugpy                      1.8.1\n",
      "decorator                    5.1.1\n",
      "exceptiongroup               1.2.0\n",
      "executing                    2.0.1\n",
      "filelock                     3.13.4\n",
      "flatbuffers                  23.5.26\n",
      "fonttools                    4.51.0\n",
      "fsspec                       2024.3.1\n",
      "gast                         0.5.4\n",
      "gdown                        5.2.0\n",
      "gitdb                        4.0.11\n",
      "GitPython                    3.1.43\n",
      "google-auth                  2.28.1\n",
      "google-auth-oauthlib         1.2.0\n",
      "google-pasta                 0.2.0\n",
      "grpcio                       1.62.0\n",
      "h5py                         3.10.0\n",
      "idna                         3.6\n",
      "imageio                      2.35.1\n",
      "importlib-metadata           7.0.1\n",
      "importlib_resources          6.4.0\n",
      "ipykernel                    6.29.3\n",
      "ipython                      8.18.1\n",
      "jedi                         0.19.1\n",
      "Jinja2                       3.1.3\n",
      "joblib                       1.4.0\n",
      "jsonschema                   4.23.0\n",
      "jsonschema-specifications    2023.12.1\n",
      "jupyter_client               8.6.0\n",
      "jupyter_core                 5.7.1\n",
      "keras                        2.15.0\n",
      "kiwisolver                   1.4.5\n",
      "libclang                     16.0.6\n",
      "Markdown                     3.5.2\n",
      "markdown-it-py               3.0.0\n",
      "MarkupSafe                   2.1.5\n",
      "matplotlib                   3.8.4\n",
      "matplotlib-inline            0.1.6\n",
      "mdurl                        0.1.2\n",
      "ml-dtypes                    0.2.0\n",
      "mpmath                       1.3.0\n",
      "narwhals                     1.8.4\n",
      "nest-asyncio                 1.6.0\n",
      "networkx                     3.2.1\n",
      "numpy                        1.26.4\n",
      "oauthlib                     3.2.2\n",
      "opencv-python                4.9.0.80\n",
      "opt-einsum                   3.3.0\n",
      "packaging                    23.2\n",
      "pandas                       2.2.3\n",
      "parso                        0.8.3\n",
      "pillow                       10.3.0\n",
      "pip                          24.0\n",
      "platformdirs                 4.2.0\n",
      "prompt-toolkit               3.0.43\n",
      "protobuf                     4.25.3\n",
      "psutil                       5.9.8\n",
      "pure-eval                    0.2.2\n",
      "pyarrow                      17.0.0\n",
      "pyasn1                       0.5.1\n",
      "pyasn1-modules               0.3.0\n",
      "pydeck                       0.9.1\n",
      "Pygments                     2.17.2\n",
      "pyparsing                    3.1.2\n",
      "PySocks                      1.7.1\n",
      "python-dateutil              2.8.2\n",
      "pytz                         2024.2\n",
      "pywin32                      306\n",
      "pyzmq                        25.1.2\n",
      "referencing                  0.35.1\n",
      "requests                     2.31.0\n",
      "requests-oauthlib            1.3.1\n",
      "rich                         13.8.1\n",
      "rpds-py                      0.20.0\n",
      "rsa                          4.9\n",
      "scikit-learn                 1.4.2\n",
      "scipy                        1.13.0\n",
      "setuptools                   49.2.1\n",
      "six                          1.16.0\n",
      "smmap                        5.0.1\n",
      "soupsieve                    2.6\n",
      "stack-data                   0.6.3\n",
      "streamlit                    1.38.0\n",
      "sympy                        1.12\n",
      "tenacity                     8.5.0\n",
      "tensorboard                  2.15.2\n",
      "tensorboard-data-server      0.7.2\n",
      "tensorflow                   2.15.0\n",
      "tensorflow-estimator         2.15.0\n",
      "tensorflow-intel             2.15.0\n",
      "tensorflow-io-gcs-filesystem 0.31.0\n",
      "termcolor                    2.4.0\n",
      "threadpoolctl                3.4.0\n",
      "toml                         0.10.2\n",
      "torch                        2.2.2\n",
      "tornado                      6.4\n",
      "tqdm                         4.66.5\n",
      "traitlets                    5.14.1\n",
      "typing_extensions            4.10.0\n",
      "tzdata                       2024.2\n",
      "urllib3                      2.2.1\n",
      "watchdog                     4.0.2\n",
      "wcwidth                      0.2.13\n",
      "Werkzeug                     3.0.1\n",
      "wheel                        0.42.0\n",
      "wrapt                        1.14.1\n",
      "zipp                         3.17.0\n"
     ]
    },
    {
     "name": "stderr",
     "output_type": "stream",
     "text": [
      "\n",
      "[notice] A new release of pip is available: 24.0 -> 24.2\n",
      "[notice] To update, run: python.exe -m pip install --upgrade pip\n"
     ]
    }
   ],
   "source": [
    "!pip list"
   ]
  },
  {
   "cell_type": "code",
   "execution_count": 6,
   "id": "02f907ea-f669-46c7-adcf-7f257e663448",
   "metadata": {
    "tags": []
   },
   "outputs": [
    {
     "name": "stdout",
     "output_type": "stream",
     "text": [
      "Requirement already satisfied: opencv-python in c:\\users\\yoga\\appdata\\local\\programs\\python\\python39\\lib\\site-packages (4.9.0.80)"
     ]
    },
    {
     "name": "stderr",
     "output_type": "stream",
     "text": [
      "\n",
      "[notice] A new release of pip is available: 24.0 -> 24.2\n",
      "[notice] To update, run: python.exe -m pip install --upgrade pip\n"
     ]
    },
    {
     "name": "stdout",
     "output_type": "stream",
     "text": [
      "\n",
      "Requirement already satisfied: matplotlib in c:\\users\\yoga\\appdata\\local\\programs\\python\\python39\\lib\\site-packages (3.8.4)\n",
      "Requirement already satisfied: imageio in c:\\users\\yoga\\appdata\\local\\programs\\python\\python39\\lib\\site-packages (2.35.1)\n",
      "Requirement already satisfied: gdown in c:\\users\\yoga\\appdata\\local\\programs\\python\\python39\\lib\\site-packages (5.2.0)\n",
      "Requirement already satisfied: tensorflow in c:\\users\\yoga\\appdata\\local\\programs\\python\\python39\\lib\\site-packages (2.15.0)\n",
      "Requirement already satisfied: numpy>=1.17.0 in c:\\users\\yoga\\appdata\\local\\programs\\python\\python39\\lib\\site-packages (from opencv-python) (1.26.4)\n",
      "Requirement already satisfied: contourpy>=1.0.1 in c:\\users\\yoga\\appdata\\local\\programs\\python\\python39\\lib\\site-packages (from matplotlib) (1.2.1)\n",
      "Requirement already satisfied: cycler>=0.10 in c:\\users\\yoga\\appdata\\local\\programs\\python\\python39\\lib\\site-packages (from matplotlib) (0.12.1)\n",
      "Requirement already satisfied: fonttools>=4.22.0 in c:\\users\\yoga\\appdata\\local\\programs\\python\\python39\\lib\\site-packages (from matplotlib) (4.51.0)\n",
      "Requirement already satisfied: kiwisolver>=1.3.1 in c:\\users\\yoga\\appdata\\local\\programs\\python\\python39\\lib\\site-packages (from matplotlib) (1.4.5)\n",
      "Requirement already satisfied: packaging>=20.0 in c:\\users\\yoga\\appdata\\roaming\\python\\python39\\site-packages (from matplotlib) (23.2)\n",
      "Requirement already satisfied: pillow>=8 in c:\\users\\yoga\\appdata\\local\\programs\\python\\python39\\lib\\site-packages (from matplotlib) (10.3.0)\n",
      "Requirement already satisfied: pyparsing>=2.3.1 in c:\\users\\yoga\\appdata\\local\\programs\\python\\python39\\lib\\site-packages (from matplotlib) (3.1.2)\n",
      "Requirement already satisfied: python-dateutil>=2.7 in c:\\users\\yoga\\appdata\\roaming\\python\\python39\\site-packages (from matplotlib) (2.8.2)\n",
      "Requirement already satisfied: importlib-resources>=3.2.0 in c:\\users\\yoga\\appdata\\local\\programs\\python\\python39\\lib\\site-packages (from matplotlib) (6.4.0)\n",
      "Requirement already satisfied: beautifulsoup4 in c:\\users\\yoga\\appdata\\local\\programs\\python\\python39\\lib\\site-packages (from gdown) (4.12.3)\n",
      "Requirement already satisfied: filelock in c:\\users\\yoga\\appdata\\local\\programs\\python\\python39\\lib\\site-packages (from gdown) (3.13.4)\n",
      "Requirement already satisfied: requests[socks] in c:\\users\\yoga\\appdata\\local\\programs\\python\\python39\\lib\\site-packages (from gdown) (2.31.0)\n",
      "Requirement already satisfied: tqdm in c:\\users\\yoga\\appdata\\local\\programs\\python\\python39\\lib\\site-packages (from gdown) (4.66.5)\n",
      "Requirement already satisfied: tensorflow-intel==2.15.0 in c:\\users\\yoga\\appdata\\local\\programs\\python\\python39\\lib\\site-packages (from tensorflow) (2.15.0)\n",
      "Requirement already satisfied: absl-py>=1.0.0 in c:\\users\\yoga\\appdata\\local\\programs\\python\\python39\\lib\\site-packages (from tensorflow-intel==2.15.0->tensorflow) (2.1.0)\n",
      "Requirement already satisfied: astunparse>=1.6.0 in c:\\users\\yoga\\appdata\\local\\programs\\python\\python39\\lib\\site-packages (from tensorflow-intel==2.15.0->tensorflow) (1.6.3)\n",
      "Requirement already satisfied: flatbuffers>=23.5.26 in c:\\users\\yoga\\appdata\\local\\programs\\python\\python39\\lib\\site-packages (from tensorflow-intel==2.15.0->tensorflow) (23.5.26)\n",
      "Requirement already satisfied: gast!=0.5.0,!=0.5.1,!=0.5.2,>=0.2.1 in c:\\users\\yoga\\appdata\\local\\programs\\python\\python39\\lib\\site-packages (from tensorflow-intel==2.15.0->tensorflow) (0.5.4)\n",
      "Requirement already satisfied: google-pasta>=0.1.1 in c:\\users\\yoga\\appdata\\local\\programs\\python\\python39\\lib\\site-packages (from tensorflow-intel==2.15.0->tensorflow) (0.2.0)\n",
      "Requirement already satisfied: h5py>=2.9.0 in c:\\users\\yoga\\appdata\\local\\programs\\python\\python39\\lib\\site-packages (from tensorflow-intel==2.15.0->tensorflow) (3.10.0)\n",
      "Requirement already satisfied: libclang>=13.0.0 in c:\\users\\yoga\\appdata\\local\\programs\\python\\python39\\lib\\site-packages (from tensorflow-intel==2.15.0->tensorflow) (16.0.6)\n",
      "Requirement already satisfied: ml-dtypes~=0.2.0 in c:\\users\\yoga\\appdata\\local\\programs\\python\\python39\\lib\\site-packages (from tensorflow-intel==2.15.0->tensorflow) (0.2.0)\n",
      "Requirement already satisfied: opt-einsum>=2.3.2 in c:\\users\\yoga\\appdata\\local\\programs\\python\\python39\\lib\\site-packages (from tensorflow-intel==2.15.0->tensorflow) (3.3.0)\n",
      "Requirement already satisfied: protobuf!=4.21.0,!=4.21.1,!=4.21.2,!=4.21.3,!=4.21.4,!=4.21.5,<5.0.0dev,>=3.20.3 in c:\\users\\yoga\\appdata\\local\\programs\\python\\python39\\lib\\site-packages (from tensorflow-intel==2.15.0->tensorflow) (4.25.3)\n",
      "Requirement already satisfied: setuptools in c:\\users\\yoga\\appdata\\local\\programs\\python\\python39\\lib\\site-packages (from tensorflow-intel==2.15.0->tensorflow) (49.2.1)\n",
      "Requirement already satisfied: six>=1.12.0 in c:\\users\\yoga\\appdata\\roaming\\python\\python39\\site-packages (from tensorflow-intel==2.15.0->tensorflow) (1.16.0)\n",
      "Requirement already satisfied: termcolor>=1.1.0 in c:\\users\\yoga\\appdata\\local\\programs\\python\\python39\\lib\\site-packages (from tensorflow-intel==2.15.0->tensorflow) (2.4.0)\n",
      "Requirement already satisfied: typing-extensions>=3.6.6 in c:\\users\\yoga\\appdata\\roaming\\python\\python39\\site-packages (from tensorflow-intel==2.15.0->tensorflow) (4.10.0)\n",
      "Requirement already satisfied: wrapt<1.15,>=1.11.0 in c:\\users\\yoga\\appdata\\local\\programs\\python\\python39\\lib\\site-packages (from tensorflow-intel==2.15.0->tensorflow) (1.14.1)\n",
      "Requirement already satisfied: tensorflow-io-gcs-filesystem>=0.23.1 in c:\\users\\yoga\\appdata\\local\\programs\\python\\python39\\lib\\site-packages (from tensorflow-intel==2.15.0->tensorflow) (0.31.0)\n",
      "Requirement already satisfied: grpcio<2.0,>=1.24.3 in c:\\users\\yoga\\appdata\\local\\programs\\python\\python39\\lib\\site-packages (from tensorflow-intel==2.15.0->tensorflow) (1.62.0)\n",
      "Requirement already satisfied: tensorboard<2.16,>=2.15 in c:\\users\\yoga\\appdata\\local\\programs\\python\\python39\\lib\\site-packages (from tensorflow-intel==2.15.0->tensorflow) (2.15.2)\n",
      "Requirement already satisfied: tensorflow-estimator<2.16,>=2.15.0 in c:\\users\\yoga\\appdata\\local\\programs\\python\\python39\\lib\\site-packages (from tensorflow-intel==2.15.0->tensorflow) (2.15.0)\n",
      "Requirement already satisfied: keras<2.16,>=2.15.0 in c:\\users\\yoga\\appdata\\local\\programs\\python\\python39\\lib\\site-packages (from tensorflow-intel==2.15.0->tensorflow) (2.15.0)\n",
      "Requirement already satisfied: zipp>=3.1.0 in c:\\users\\yoga\\appdata\\roaming\\python\\python39\\site-packages (from importlib-resources>=3.2.0->matplotlib) (3.17.0)\n",
      "Requirement already satisfied: soupsieve>1.2 in c:\\users\\yoga\\appdata\\local\\programs\\python\\python39\\lib\\site-packages (from beautifulsoup4->gdown) (2.6)\n",
      "Requirement already satisfied: charset-normalizer<4,>=2 in c:\\users\\yoga\\appdata\\local\\programs\\python\\python39\\lib\\site-packages (from requests[socks]->gdown) (3.3.2)\n",
      "Requirement already satisfied: idna<4,>=2.5 in c:\\users\\yoga\\appdata\\local\\programs\\python\\python39\\lib\\site-packages (from requests[socks]->gdown) (3.6)\n",
      "Requirement already satisfied: urllib3<3,>=1.21.1 in c:\\users\\yoga\\appdata\\local\\programs\\python\\python39\\lib\\site-packages (from requests[socks]->gdown) (2.2.1)\n",
      "Requirement already satisfied: certifi>=2017.4.17 in c:\\users\\yoga\\appdata\\local\\programs\\python\\python39\\lib\\site-packages (from requests[socks]->gdown) (2024.2.2)\n",
      "Requirement already satisfied: PySocks!=1.5.7,>=1.5.6 in c:\\users\\yoga\\appdata\\local\\programs\\python\\python39\\lib\\site-packages (from requests[socks]->gdown) (1.7.1)\n",
      "Requirement already satisfied: colorama in c:\\users\\yoga\\appdata\\roaming\\python\\python39\\site-packages (from tqdm->gdown) (0.4.6)\n",
      "Requirement already satisfied: wheel<1.0,>=0.23.0 in c:\\users\\yoga\\appdata\\local\\programs\\python\\python39\\lib\\site-packages (from astunparse>=1.6.0->tensorflow-intel==2.15.0->tensorflow) (0.42.0)\n",
      "Requirement already satisfied: google-auth<3,>=1.6.3 in c:\\users\\yoga\\appdata\\local\\programs\\python\\python39\\lib\\site-packages (from tensorboard<2.16,>=2.15->tensorflow-intel==2.15.0->tensorflow) (2.28.1)\n",
      "Requirement already satisfied: google-auth-oauthlib<2,>=0.5 in c:\\users\\yoga\\appdata\\local\\programs\\python\\python39\\lib\\site-packages (from tensorboard<2.16,>=2.15->tensorflow-intel==2.15.0->tensorflow) (1.2.0)\n",
      "Requirement already satisfied: markdown>=2.6.8 in c:\\users\\yoga\\appdata\\local\\programs\\python\\python39\\lib\\site-packages (from tensorboard<2.16,>=2.15->tensorflow-intel==2.15.0->tensorflow) (3.5.2)\n",
      "Requirement already satisfied: tensorboard-data-server<0.8.0,>=0.7.0 in c:\\users\\yoga\\appdata\\local\\programs\\python\\python39\\lib\\site-packages (from tensorboard<2.16,>=2.15->tensorflow-intel==2.15.0->tensorflow) (0.7.2)\n",
      "Requirement already satisfied: werkzeug>=1.0.1 in c:\\users\\yoga\\appdata\\local\\programs\\python\\python39\\lib\\site-packages (from tensorboard<2.16,>=2.15->tensorflow-intel==2.15.0->tensorflow) (3.0.1)\n",
      "Requirement already satisfied: cachetools<6.0,>=2.0.0 in c:\\users\\yoga\\appdata\\local\\programs\\python\\python39\\lib\\site-packages (from google-auth<3,>=1.6.3->tensorboard<2.16,>=2.15->tensorflow-intel==2.15.0->tensorflow) (5.3.3)\n",
      "Requirement already satisfied: pyasn1-modules>=0.2.1 in c:\\users\\yoga\\appdata\\local\\programs\\python\\python39\\lib\\site-packages (from google-auth<3,>=1.6.3->tensorboard<2.16,>=2.15->tensorflow-intel==2.15.0->tensorflow) (0.3.0)\n",
      "Requirement already satisfied: rsa<5,>=3.1.4 in c:\\users\\yoga\\appdata\\local\\programs\\python\\python39\\lib\\site-packages (from google-auth<3,>=1.6.3->tensorboard<2.16,>=2.15->tensorflow-intel==2.15.0->tensorflow) (4.9)\n",
      "Requirement already satisfied: requests-oauthlib>=0.7.0 in c:\\users\\yoga\\appdata\\local\\programs\\python\\python39\\lib\\site-packages (from google-auth-oauthlib<2,>=0.5->tensorboard<2.16,>=2.15->tensorflow-intel==2.15.0->tensorflow) (1.3.1)\n",
      "Requirement already satisfied: importlib-metadata>=4.4 in c:\\users\\yoga\\appdata\\roaming\\python\\python39\\site-packages (from markdown>=2.6.8->tensorboard<2.16,>=2.15->tensorflow-intel==2.15.0->tensorflow) (7.0.1)\n",
      "Requirement already satisfied: MarkupSafe>=2.1.1 in c:\\users\\yoga\\appdata\\local\\programs\\python\\python39\\lib\\site-packages (from werkzeug>=1.0.1->tensorboard<2.16,>=2.15->tensorflow-intel==2.15.0->tensorflow) (2.1.5)\n",
      "Requirement already satisfied: pyasn1<0.6.0,>=0.4.6 in c:\\users\\yoga\\appdata\\local\\programs\\python\\python39\\lib\\site-packages (from pyasn1-modules>=0.2.1->google-auth<3,>=1.6.3->tensorboard<2.16,>=2.15->tensorflow-intel==2.15.0->tensorflow) (0.5.1)\n",
      "Requirement already satisfied: oauthlib>=3.0.0 in c:\\users\\yoga\\appdata\\local\\programs\\python\\python39\\lib\\site-packages (from requests-oauthlib>=0.7.0->google-auth-oauthlib<2,>=0.5->tensorboard<2.16,>=2.15->tensorflow-intel==2.15.0->tensorflow) (3.2.2)\n"
     ]
    }
   ],
   "source": [
    "!pip install opencv-python matplotlib imageio gdown tensorflow"
   ]
  },
  {
   "cell_type": "code",
   "execution_count": 2,
   "id": "b24af50c-20b8-409d-ad78-30a933fdd669",
   "metadata": {
    "tags": []
   },
   "outputs": [],
   "source": [
    "import os\n",
    "import cv2\n",
    "import tensorflow as tf\n",
    "import numpy as np\n",
    "from typing import List\n",
    "from matplotlib import pyplot as plt\n",
    "import imageio"
   ]
  },
  {
   "cell_type": "code",
   "execution_count": 3,
   "id": "1e3db0b0-e559-4ad6-91fd-e7414b7d75e6",
   "metadata": {},
   "outputs": [
    {
     "data": {
      "text/plain": [
       "[]"
      ]
     },
     "execution_count": 3,
     "metadata": {},
     "output_type": "execute_result"
    }
   ],
   "source": [
    "tf.config.list_physical_devices('GPU')"
   ]
  },
  {
   "cell_type": "code",
   "execution_count": 10,
   "id": "378d045a-3003-4f93-b7d2-a25a97774a68",
   "metadata": {
    "tags": []
   },
   "outputs": [],
   "source": [
    "physical_devices = tf.config.list_physical_devices('GPU')\n",
    "try:\n",
    "    tf.config.experimental.set_memory_growth(physical_devices[0], True)\n",
    "except:\n",
    "    pass"
   ]
  },
  {
   "cell_type": "markdown",
   "id": "7a19e88e-c7b9-45c1-ae1e-f2109329c71b",
   "metadata": {
    "tags": []
   },
   "source": [
    "# 1. Build Data Loading Functions"
   ]
  },
  {
   "cell_type": "code",
   "execution_count": 11,
   "id": "8fb99c90-e05a-437f-839d-6e772f8c1dd5",
   "metadata": {
    "tags": []
   },
   "outputs": [],
   "source": [
    "import gdown"
   ]
  },
  {
   "cell_type": "code",
   "execution_count": 4,
   "id": "8548cc59-6dfc-4acc-abc3-3e65212db02e",
   "metadata": {
    "tags": []
   },
   "outputs": [],
   "source": [
    "def load_video(path:str) -> List[float]: \n",
    "\n",
    "    cap = cv2.VideoCapture(path)\n",
    "    frames = []\n",
    "    for _ in range(int(cap.get(cv2.CAP_PROP_FRAME_COUNT))): \n",
    "        ret, frame = cap.read()\n",
    "        frame = tf.image.rgb_to_grayscale(frame)\n",
    "        frames.append(frame[190:236,80:220,:])\n",
    "    cap.release()\n",
    "    \n",
    "    mean = tf.math.reduce_mean(frames)\n",
    "    std = tf.math.reduce_std(tf.cast(frames, tf.float32))\n",
    "    return tf.cast((frames - mean), tf.float32) / std"
   ]
  },
  {
   "cell_type": "code",
   "execution_count": 5,
   "id": "ec735e0b-ec98-4eb0-8f49-c35527d6670a",
   "metadata": {
    "tags": []
   },
   "outputs": [],
   "source": [
    "vocab = [x for x in \"abcdefghijklmnopqrstuvwxyz'?!123456789 \"]"
   ]
  },
  {
   "cell_type": "code",
   "execution_count": 6,
   "id": "be04e972-d7a5-4a72-82d8-a6bdde1f3ce6",
   "metadata": {
    "tags": []
   },
   "outputs": [
    {
     "name": "stdout",
     "output_type": "stream",
     "text": [
      "WARNING:tensorflow:From c:\\Users\\Yoga\\AppData\\Local\\Programs\\Python\\Python39\\lib\\site-packages\\keras\\src\\backend.py:873: The name tf.get_default_graph is deprecated. Please use tf.compat.v1.get_default_graph instead.\n",
      "\n",
      "The vocabulary is: ['', 'a', 'b', 'c', 'd', 'e', 'f', 'g', 'h', 'i', 'j', 'k', 'l', 'm', 'n', 'o', 'p', 'q', 'r', 's', 't', 'u', 'v', 'w', 'x', 'y', 'z', \"'\", '?', '!', '1', '2', '3', '4', '5', '6', '7', '8', '9', ' '] (size =40)\n"
     ]
    }
   ],
   "source": [
    "char_to_num = tf.keras.layers.StringLookup(vocabulary=vocab, oov_token=\"\")\n",
    "num_to_char = tf.keras.layers.StringLookup(\n",
    "    vocabulary=char_to_num.get_vocabulary(), oov_token=\"\", invert=True\n",
    ")\n",
    "\n",
    "print(\n",
    "    f\"The vocabulary is: {char_to_num.get_vocabulary()} \"\n",
    "    f\"(size ={char_to_num.vocabulary_size()})\"\n",
    ")"
   ]
  },
  {
   "cell_type": "code",
   "execution_count": 7,
   "id": "559f7420-6802-45fa-9ca0-b1ff209b461c",
   "metadata": {
    "tags": []
   },
   "outputs": [
    {
     "data": {
      "text/plain": [
       "['',\n",
       " 'a',\n",
       " 'b',\n",
       " 'c',\n",
       " 'd',\n",
       " 'e',\n",
       " 'f',\n",
       " 'g',\n",
       " 'h',\n",
       " 'i',\n",
       " 'j',\n",
       " 'k',\n",
       " 'l',\n",
       " 'm',\n",
       " 'n',\n",
       " 'o',\n",
       " 'p',\n",
       " 'q',\n",
       " 'r',\n",
       " 's',\n",
       " 't',\n",
       " 'u',\n",
       " 'v',\n",
       " 'w',\n",
       " 'x',\n",
       " 'y',\n",
       " 'z',\n",
       " \"'\",\n",
       " '?',\n",
       " '!',\n",
       " '1',\n",
       " '2',\n",
       " '3',\n",
       " '4',\n",
       " '5',\n",
       " '6',\n",
       " '7',\n",
       " '8',\n",
       " '9',\n",
       " ' ']"
      ]
     },
     "execution_count": 7,
     "metadata": {},
     "output_type": "execute_result"
    }
   ],
   "source": [
    "char_to_num.get_vocabulary()"
   ]
  },
  {
   "cell_type": "code",
   "execution_count": 8,
   "id": "797ff78b-b48f-4e14-bb62-8cd0ebf9501a",
   "metadata": {
    "tags": []
   },
   "outputs": [
    {
     "name": "stdout",
     "output_type": "stream",
     "text": [
      "WARNING:tensorflow:From c:\\Users\\Yoga\\AppData\\Local\\Programs\\Python\\Python39\\lib\\site-packages\\keras\\src\\utils\\tf_utils.py:492: The name tf.ragged.RaggedTensorValue is deprecated. Please use tf.compat.v1.ragged.RaggedTensorValue instead.\n",
      "\n"
     ]
    },
    {
     "data": {
      "text/plain": [
       "<tf.Tensor: shape=(7,), dtype=int64, numpy=array([19,  1, 12, 13,  1, 14,  5], dtype=int64)>"
      ]
     },
     "execution_count": 8,
     "metadata": {},
     "output_type": "execute_result"
    }
   ],
   "source": [
    "char_to_num(['s','a','l','m','a','n','e'])"
   ]
  },
  {
   "cell_type": "code",
   "execution_count": 9,
   "id": "8cd7f4f4-ae77-4509-a4f4-c723787ebad1",
   "metadata": {},
   "outputs": [
    {
     "data": {
      "text/plain": [
       "<tf.Tensor: shape=(7,), dtype=string, numpy=array([b's', b'a', b'l', b'm', b'a', b'n', b'e'], dtype=object)>"
      ]
     },
     "execution_count": 9,
     "metadata": {},
     "output_type": "execute_result"
    }
   ],
   "source": [
    "num_to_char([19,  1, 12, 13,  1, 14,  5])"
   ]
  },
  {
   "cell_type": "code",
   "execution_count": 10,
   "id": "9491bab5-6a3c-4f79-879a-8f9fbe73ae2e",
   "metadata": {
    "tags": []
   },
   "outputs": [],
   "source": [
    "def load_alignments(path:str) -> List[str]: \n",
    "    with open(path, 'r') as f: \n",
    "        lines = f.readlines() \n",
    "    tokens = []\n",
    "    for line in lines:\n",
    "        line = line.split()\n",
    "        if line[2] != 'sil': \n",
    "            tokens = [*tokens,' ',line[2]]\n",
    "    return char_to_num(tf.reshape(tf.strings.unicode_split(tokens, input_encoding='UTF-8'), (-1)))[1:]"
   ]
  },
  {
   "cell_type": "code",
   "execution_count": 11,
   "id": "dd01ca9f-77fb-4643-a2aa-47dd82c5d66b",
   "metadata": {
    "tags": []
   },
   "outputs": [],
   "source": [
    "def load_data(path: str): \n",
    "    path = bytes.decode(path.numpy())\n",
    "    #file_name = path.split('/')[-1].split('.')[0]\n",
    "    # File name splitting for windows\n",
    "    file_name = path.split('\\\\')[-1].split('.')[0]\n",
    "    video_path = os.path.join('data','s1',f'{file_name}.mpg')\n",
    "    alignment_path = os.path.join('data','alignments','s1',f'{file_name}.align')\n",
    "    frames = load_video(video_path) \n",
    "    alignments = load_alignments(alignment_path)\n",
    "    \n",
    "    return frames, alignments"
   ]
  },
  {
   "cell_type": "code",
   "execution_count": 22,
   "id": "8cb7cc58-31ae-4904-a805-1177a82717d2",
   "metadata": {
    "tags": []
   },
   "outputs": [],
   "source": [
    "test_path = 'data\\\\s1\\\\bbal6n.mpg'"
   ]
  },
  {
   "cell_type": "code",
   "execution_count": 20,
   "id": "76aa964f-0c84-490d-897a-d00e3966e2c9",
   "metadata": {},
   "outputs": [
    {
     "data": {
      "text/plain": [
       "'bbal6n'"
      ]
     },
     "execution_count": 20,
     "metadata": {},
     "output_type": "execute_result"
    }
   ],
   "source": [
    "tf.convert_to_tensor(test_path).numpy().decode('utf-8').split('\\\\')[-1].split('.')[0]"
   ]
  },
  {
   "cell_type": "code",
   "execution_count": 23,
   "id": "398c33c4",
   "metadata": {},
   "outputs": [],
   "source": [
    "def load_video(path:str) -> List[float]: \n",
    "    #print(path)\n",
    "    cap = cv2.VideoCapture(path)\n",
    "    frames = []\n",
    "    for _ in range(int(cap.get(cv2.CAP_PROP_FRAME_COUNT))): \n",
    "        ret, frame = cap.read()\n",
    "        frame = tf.image.rgb_to_grayscale(frame)\n",
    "        frames.append(frame[190:236,80:220,:])\n",
    "    cap.release()\n",
    "    \n",
    "    mean = tf.math.reduce_mean(frames)\n",
    "    std = tf.math.reduce_std(tf.cast(frames, tf.float32))\n",
    "    return tf.cast((frames - mean), tf.float32) / std"
   ]
  },
  {
   "cell_type": "code",
   "execution_count": 24,
   "id": "bd6dec13",
   "metadata": {},
   "outputs": [],
   "source": [
    "def load_alignments(path:str) -> List[str]: \n",
    "    #print(path)\n",
    "    with open(path, 'r') as f: \n",
    "        lines = f.readlines() \n",
    "    tokens = []\n",
    "    for line in lines:\n",
    "        line = line.split()\n",
    "        if line[2] != 'sil': \n",
    "            tokens = [*tokens,' ',line[2]]\n",
    "    return char_to_num(tf.reshape(tf.strings.unicode_split(tokens, input_encoding='UTF-8'), (-1)))[1:]"
   ]
  },
  {
   "cell_type": "code",
   "execution_count": 37,
   "id": "36cc6aa5",
   "metadata": {},
   "outputs": [],
   "source": [
    "def load_data(path: str): \n",
    "    path = bytes.decode(path.numpy())\n",
    "    #file_name = path.split('/')[-1].split('.')[0]\n",
    "    # File name splitting for windows\n",
    "    file_name = path.split('\\\\')[-1].split('.')[0]\n",
    "    video_path = os.path.join('.','data','s1',f'{file_name}.mpg')\n",
    "    alignment_path = os.path.join('.','data','alignments','s1',f'{file_name}.align')\n",
    "    frames = load_video(video_path) \n",
    "    alignments = load_alignments(alignment_path)\n",
    "    \n",
    "    return frames, alignments"
   ]
  },
  {
   "cell_type": "code",
   "execution_count": 35,
   "id": "9570092b",
   "metadata": {},
   "outputs": [
    {
     "data": {
      "text/plain": [
       "<tf.Tensor: shape=(), dtype=string, numpy=b'data\\\\s1\\\\bbal6n.mpg'>"
      ]
     },
     "execution_count": 35,
     "metadata": {},
     "output_type": "execute_result"
    }
   ],
   "source": [
    "tf.convert_to_tensor(test_path)"
   ]
  },
  {
   "cell_type": "code",
   "execution_count": 38,
   "id": "d2b93aa6",
   "metadata": {},
   "outputs": [
    {
     "data": {
      "text/plain": [
       "(<tf.Tensor: shape=(75, 46, 140, 1), dtype=float32, numpy=\n",
       " array([[[[ 1.4603736 ],\n",
       "          [ 1.4603736 ],\n",
       "          [ 1.4209042 ],\n",
       "          ...,\n",
       "          [ 0.15787823],\n",
       "          [ 0.19734779],\n",
       "          [ 0.07893912]],\n",
       " \n",
       "         [[ 1.4603736 ],\n",
       "          [ 1.4603736 ],\n",
       "          [ 1.4209042 ],\n",
       "          ...,\n",
       "          [ 0.15787823],\n",
       "          [ 0.07893912],\n",
       "          [ 0.03946956]],\n",
       " \n",
       "         [[ 1.4209042 ],\n",
       "          [ 1.4209042 ],\n",
       "          [ 1.3814346 ],\n",
       "          ...,\n",
       "          [ 0.07893912],\n",
       "          [ 0.07893912],\n",
       "          [ 0.07893912]],\n",
       " \n",
       "         ...,\n",
       " \n",
       "         [[ 0.9472694 ],\n",
       "          [ 0.9472694 ],\n",
       "          [ 0.9472694 ],\n",
       "          ...,\n",
       "          [ 9.946329  ],\n",
       "          [ 9.86739   ],\n",
       "          [ 9.86739   ]],\n",
       " \n",
       "         [[ 0.9472694 ],\n",
       "          [ 0.9472694 ],\n",
       "          [ 0.9472694 ],\n",
       "          ...,\n",
       "          [ 9.906859  ],\n",
       "          [ 9.86739   ],\n",
       "          [ 9.86739   ]],\n",
       " \n",
       "         [[ 0.9472694 ],\n",
       "          [ 0.9472694 ],\n",
       "          [ 0.9472694 ],\n",
       "          ...,\n",
       "          [ 9.906859  ],\n",
       "          [ 9.86739   ],\n",
       "          [ 9.86739   ]]],\n",
       " \n",
       " \n",
       "        [[[ 1.4209042 ],\n",
       "          [ 1.4209042 ],\n",
       "          [ 1.341965  ],\n",
       "          ...,\n",
       "          [ 0.19734779],\n",
       "          [ 0.11840867],\n",
       "          [ 0.15787823]],\n",
       " \n",
       "         [[ 1.4209042 ],\n",
       "          [ 1.4209042 ],\n",
       "          [ 1.341965  ],\n",
       "          ...,\n",
       "          [ 0.23681735],\n",
       "          [ 0.        ],\n",
       "          [ 0.03946956]],\n",
       " \n",
       "         [[ 1.341965  ],\n",
       "          [ 1.341965  ],\n",
       "          [ 1.3024955 ],\n",
       "          ...,\n",
       "          [ 0.11840867],\n",
       "          [ 0.15787823],\n",
       "          [ 0.15787823]],\n",
       " \n",
       "         ...,\n",
       " \n",
       "         [[ 0.9472694 ],\n",
       "          [ 0.9472694 ],\n",
       "          [ 0.9472694 ],\n",
       "          ...,\n",
       "          [10.025268  ],\n",
       "          [ 9.946329  ],\n",
       "          [ 9.946329  ]],\n",
       " \n",
       "         [[ 0.90779984],\n",
       "          [ 0.90779984],\n",
       "          [ 0.90779984],\n",
       "          ...,\n",
       "          [ 9.946329  ],\n",
       "          [ 9.906859  ],\n",
       "          [ 9.906859  ]],\n",
       " \n",
       "         [[ 0.90779984],\n",
       "          [ 0.90779984],\n",
       "          [ 0.90779984],\n",
       "          ...,\n",
       "          [ 9.946329  ],\n",
       "          [ 9.906859  ],\n",
       "          [ 9.906859  ]]],\n",
       " \n",
       " \n",
       "        [[[ 1.4209042 ],\n",
       "          [ 1.4209042 ],\n",
       "          [ 1.341965  ],\n",
       "          ...,\n",
       "          [ 0.15787823],\n",
       "          [ 0.07893912],\n",
       "          [ 0.15787823]],\n",
       " \n",
       "         [[ 1.4209042 ],\n",
       "          [ 1.4209042 ],\n",
       "          [ 1.341965  ],\n",
       "          ...,\n",
       "          [ 0.2762869 ],\n",
       "          [ 0.03946956],\n",
       "          [ 0.15787823]],\n",
       " \n",
       "         [[ 1.341965  ],\n",
       "          [ 1.3024955 ],\n",
       "          [ 1.341965  ],\n",
       "          ...,\n",
       "          [ 0.11840867],\n",
       "          [ 0.11840867],\n",
       "          [ 0.11840867]],\n",
       " \n",
       "         ...,\n",
       " \n",
       "         [[ 0.986739  ],\n",
       "          [ 0.986739  ],\n",
       "          [ 0.9472694 ],\n",
       "          ...,\n",
       "          [ 9.985798  ],\n",
       "          [ 9.985798  ],\n",
       "          [ 9.985798  ]],\n",
       " \n",
       "         [[ 0.9472694 ],\n",
       "          [ 0.9472694 ],\n",
       "          [ 0.90779984],\n",
       "          ...,\n",
       "          [ 9.946329  ],\n",
       "          [ 9.906859  ],\n",
       "          [ 9.906859  ]],\n",
       " \n",
       "         [[ 0.9472694 ],\n",
       "          [ 0.9472694 ],\n",
       "          [ 0.90779984],\n",
       "          ...,\n",
       "          [ 9.946329  ],\n",
       "          [ 9.906859  ],\n",
       "          [ 9.906859  ]]],\n",
       " \n",
       " \n",
       "        ...,\n",
       " \n",
       " \n",
       "        [[[ 1.3814346 ],\n",
       "          [ 1.3814346 ],\n",
       "          [ 1.4209042 ],\n",
       "          ...,\n",
       "          [ 0.19734779],\n",
       "          [ 0.15787823],\n",
       "          [ 0.07893912]],\n",
       " \n",
       "         [[ 1.3814346 ],\n",
       "          [ 1.3814346 ],\n",
       "          [ 1.4209042 ],\n",
       "          ...,\n",
       "          [ 0.11840867],\n",
       "          [ 0.11840867],\n",
       "          [ 0.07893912]],\n",
       " \n",
       "         [[ 1.3024955 ],\n",
       "          [ 1.3024955 ],\n",
       "          [ 1.3024955 ],\n",
       "          ...,\n",
       "          [ 0.11840867],\n",
       "          [ 0.11840867],\n",
       "          [ 0.15787823]],\n",
       " \n",
       "         ...,\n",
       " \n",
       "         [[ 0.986739  ],\n",
       "          [ 0.9472694 ],\n",
       "          [ 0.9472694 ],\n",
       "          ...,\n",
       "          [ 9.906859  ],\n",
       "          [ 9.86739   ],\n",
       "          [ 9.86739   ]],\n",
       " \n",
       "         [[ 0.9472694 ],\n",
       "          [ 0.9472694 ],\n",
       "          [ 0.9472694 ],\n",
       "          ...,\n",
       "          [ 9.906859  ],\n",
       "          [ 9.86739   ],\n",
       "          [ 9.86739   ]],\n",
       " \n",
       "         [[ 0.9472694 ],\n",
       "          [ 0.9472694 ],\n",
       "          [ 0.9472694 ],\n",
       "          ...,\n",
       "          [ 9.906859  ],\n",
       "          [ 9.86739   ],\n",
       "          [ 9.86739   ]]],\n",
       " \n",
       " \n",
       "        [[[ 1.341965  ],\n",
       "          [ 1.341965  ],\n",
       "          [ 1.3814346 ],\n",
       "          ...,\n",
       "          [ 0.15787823],\n",
       "          [ 0.07893912],\n",
       "          [ 0.        ]],\n",
       " \n",
       "         [[ 1.341965  ],\n",
       "          [ 1.341965  ],\n",
       "          [ 1.3814346 ],\n",
       "          ...,\n",
       "          [ 0.15787823],\n",
       "          [ 0.11840867],\n",
       "          [ 0.03946956]],\n",
       " \n",
       "         [[ 1.3024955 ],\n",
       "          [ 1.3024955 ],\n",
       "          [ 1.3024955 ],\n",
       "          ...,\n",
       "          [ 0.11840867],\n",
       "          [ 0.07893912],\n",
       "          [ 0.11840867]],\n",
       " \n",
       "         ...,\n",
       " \n",
       "         [[ 0.9472694 ],\n",
       "          [ 0.90779984],\n",
       "          [ 0.90779984],\n",
       "          ...,\n",
       "          [ 9.86739   ],\n",
       "          [ 9.82792   ],\n",
       "          [ 9.82792   ]],\n",
       " \n",
       "         [[ 0.90779984],\n",
       "          [ 0.90779984],\n",
       "          [ 0.90779984],\n",
       "          ...,\n",
       "          [ 9.86739   ],\n",
       "          [ 9.82792   ],\n",
       "          [ 9.82792   ]],\n",
       " \n",
       "         [[ 0.90779984],\n",
       "          [ 0.90779984],\n",
       "          [ 0.90779984],\n",
       "          ...,\n",
       "          [ 9.86739   ],\n",
       "          [ 9.82792   ],\n",
       "          [ 9.82792   ]]],\n",
       " \n",
       " \n",
       "        [[[ 1.3024955 ],\n",
       "          [ 1.3024955 ],\n",
       "          [ 1.3814346 ],\n",
       "          ...,\n",
       "          [ 0.07893912],\n",
       "          [ 0.07893912],\n",
       "          [ 0.15787823]],\n",
       " \n",
       "         [[ 1.3024955 ],\n",
       "          [ 1.3024955 ],\n",
       "          [ 1.3814346 ],\n",
       "          ...,\n",
       "          [ 0.        ],\n",
       "          [ 0.07893912],\n",
       "          [ 0.23681735]],\n",
       " \n",
       "         [[ 1.341965  ],\n",
       "          [ 1.341965  ],\n",
       "          [ 1.341965  ],\n",
       "          ...,\n",
       "          [ 0.07893912],\n",
       "          [ 0.07893912],\n",
       "          [ 0.07893912]],\n",
       " \n",
       "         ...,\n",
       " \n",
       "         [[ 0.90779984],\n",
       "          [ 0.90779984],\n",
       "          [ 0.90779984],\n",
       "          ...,\n",
       "          [ 9.906859  ],\n",
       "          [ 9.86739   ],\n",
       "          [ 9.86739   ]],\n",
       " \n",
       "         [[ 0.90779984],\n",
       "          [ 0.90779984],\n",
       "          [ 0.90779984],\n",
       "          ...,\n",
       "          [ 9.946329  ],\n",
       "          [ 9.86739   ],\n",
       "          [ 9.86739   ]],\n",
       " \n",
       "         [[ 0.90779984],\n",
       "          [ 0.90779984],\n",
       "          [ 0.90779984],\n",
       "          ...,\n",
       "          [ 9.946329  ],\n",
       "          [ 9.86739   ],\n",
       "          [ 9.86739   ]]]], dtype=float32)>,\n",
       " <tf.Tensor: shape=(21,), dtype=int64, numpy=\n",
       " array([ 2,  9, 14, 39,  2, 12, 21,  5, 39,  1, 20, 39, 12, 39, 19,  9, 24,\n",
       "        39, 14, 15, 23], dtype=int64)>)"
      ]
     },
     "execution_count": 38,
     "metadata": {},
     "output_type": "execute_result"
    }
   ],
   "source": [
    "load_data(tf.convert_to_tensor(test_path))"
   ]
  },
  {
   "cell_type": "code",
   "execution_count": 39,
   "id": "eb602c71-8560-4f9e-b26b-08202febb937",
   "metadata": {
    "scrolled": true,
    "tags": []
   },
   "outputs": [],
   "source": [
    "frames, alignments = load_data(tf.convert_to_tensor(test_path))"
   ]
  },
  {
   "cell_type": "code",
   "execution_count": 43,
   "id": "0e3184a1-6b02-4b4f-84a8-a0a65f951ea2",
   "metadata": {},
   "outputs": [
    {
     "data": {
      "text/plain": [
       "<matplotlib.image.AxesImage at 0x178c8125160>"
      ]
     },
     "execution_count": 43,
     "metadata": {},
     "output_type": "execute_result"
    },
    {
     "data": {
      "image/png": "[encoded data removed]",
      "text/plain": [
       "<Figure size 640x480 with 1 Axes>"
      ]
     },
     "metadata": {},
     "output_type": "display_data"
    }
   ],
   "source": [
    "plt.imshow(frames[7])"
   ]
  },
  {
   "cell_type": "code",
   "execution_count": 44,
   "id": "d7ec0833-d54b-4073-84cf-92d011c60ec1",
   "metadata": {},
   "outputs": [
    {
     "data": {
      "text/plain": [
       "<tf.Tensor: shape=(21,), dtype=int64, numpy=\n",
       "array([ 2,  9, 14, 39,  2, 12, 21,  5, 39,  1, 20, 39, 12, 39, 19,  9, 24,\n",
       "       39, 14, 15, 23], dtype=int64)>"
      ]
     },
     "execution_count": 44,
     "metadata": {},
     "output_type": "execute_result"
    }
   ],
   "source": [
    "alignments"
   ]
  },
  {
   "cell_type": "code",
   "execution_count": 45,
   "id": "fe1ad370-b287-4b46-85a2-7c45b0bd9b10",
   "metadata": {},
   "outputs": [
    {
     "data": {
      "text/plain": [
       "<tf.Tensor: shape=(), dtype=string, numpy=b'bin blue at l six now'>"
      ]
     },
     "execution_count": 45,
     "metadata": {},
     "output_type": "execute_result"
    }
   ],
   "source": [
    "tf.strings.reduce_join([bytes.decode(x) for x in num_to_char(alignments.numpy()).numpy()])"
   ]
  },
  {
   "cell_type": "code",
   "execution_count": 61,
   "id": "6871031a-b0ba-4c76-a852-f6329b0f2606",
   "metadata": {
    "tags": []
   },
   "outputs": [],
   "source": [
    "def mappable_function(path:str) ->List[str]:\n",
    "    result = tf.py_function(load_data, [path], (tf.float32, tf.int64))\n",
    "    return result"
   ]
  },
  {
   "cell_type": "markdown",
   "id": "c40a7eb4-0c3e-4eab-9291-5611cb68ce08",
   "metadata": {
    "tags": []
   },
   "source": [
    "# 2. Create Data Pipeline"
   ]
  },
  {
   "cell_type": "code",
   "execution_count": 47,
   "id": "7686355d-45aa-4c85-ad9c-053e6a9b4d81",
   "metadata": {
    "tags": []
   },
   "outputs": [],
   "source": [
    "from matplotlib import pyplot as plt"
   ]
  },
  {
   "cell_type": "code",
   "execution_count": 48,
   "id": "f066fea2-91b1-42ed-a67d-00566a1a53ff",
   "metadata": {
    "tags": []
   },
   "outputs": [],
   "source": [
    "data = tf.data.Dataset.list_files('./data/s1/*.mpg')\n",
    "data = data.shuffle(500, reshuffle_each_iteration=False)\n",
    "data = data.map(mappable_function)\n",
    "data = data.padded_batch(2, padded_shapes=([75,None,None,None],[40]))\n",
    "data = data.prefetch(tf.data.AUTOTUNE)\n",
    "# Added for split \n",
    "train = data.take(450)\n",
    "test = data.skip(450)"
   ]
  },
  {
   "cell_type": "code",
   "execution_count": 62,
   "id": "c5ea2102",
   "metadata": {},
   "outputs": [
    {
     "data": {
      "text/plain": [
       "450"
      ]
     },
     "execution_count": 62,
     "metadata": {},
     "output_type": "execute_result"
    }
   ],
   "source": [
    "len(train)"
   ]
  },
  {
   "cell_type": "code",
   "execution_count": 49,
   "id": "6b1365bd-7742-41d1-95d4-247021751c3a",
   "metadata": {},
   "outputs": [
    {
     "data": {
      "text/plain": [
       "50"
      ]
     },
     "execution_count": 49,
     "metadata": {},
     "output_type": "execute_result"
    }
   ],
   "source": [
    "len(test)"
   ]
  },
  {
   "cell_type": "code",
   "execution_count": 50,
   "id": "5281bde8-fdc8-4da1-bd55-5a7929a9e80c",
   "metadata": {},
   "outputs": [],
   "source": [
    "frames, alignments = data.as_numpy_iterator().next()"
   ]
  },
  {
   "cell_type": "code",
   "execution_count": 51,
   "id": "cbebe683-6afd-47fd-bba4-c83b4b13bb32",
   "metadata": {},
   "outputs": [
    {
     "data": {
      "text/plain": [
       "2"
      ]
     },
     "execution_count": 51,
     "metadata": {},
     "output_type": "execute_result"
    }
   ],
   "source": [
    "len(frames)"
   ]
  },
  {
   "cell_type": "code",
   "execution_count": 52,
   "id": "5cf2d676-93a9-434c-b3c7-bdcc2577b2e7",
   "metadata": {
    "tags": []
   },
   "outputs": [],
   "source": [
    "sample = data.as_numpy_iterator()"
   ]
  },
  {
   "cell_type": "code",
   "execution_count": 53,
   "id": "efa6cd46-7079-46c0-b45b-832f339f6cb0",
   "metadata": {
    "scrolled": true,
    "tags": []
   },
   "outputs": [
    {
     "data": {
      "text/plain": [
       "array([[[[[ 1.382422  ],\n",
       "          [ 1.382422  ],\n",
       "          [ 1.382422  ],\n",
       "          ...,\n",
       "          [ 0.5529688 ],\n",
       "          [ 9.992936  ],\n",
       "          [ 9.281976  ]],\n",
       "\n",
       "         [[ 1.382422  ],\n",
       "          [ 1.382422  ],\n",
       "          [ 1.382422  ],\n",
       "          ...,\n",
       "          [ 0.        ],\n",
       "          [ 9.597959  ],\n",
       "          [ 9.202981  ]],\n",
       "\n",
       "         [[ 1.3034264 ],\n",
       "          [ 1.3034264 ],\n",
       "          [ 1.3034264 ],\n",
       "          ...,\n",
       "          [ 9.676954  ],\n",
       "          [ 9.91394   ],\n",
       "          [ 9.716452  ]],\n",
       "\n",
       "         ...,\n",
       "\n",
       "         [[ 0.86895096],\n",
       "          [ 0.86895096],\n",
       "          [ 0.86895096],\n",
       "          ...,\n",
       "          [10.071932  ],\n",
       "          [10.0324335 ],\n",
       "          [10.0324335 ]],\n",
       "\n",
       "         [[ 0.86895096],\n",
       "          [ 0.86895096],\n",
       "          [ 0.86895096],\n",
       "          ...,\n",
       "          [10.0324335 ],\n",
       "          [10.0324335 ],\n",
       "          [10.0324335 ]],\n",
       "\n",
       "         [[ 0.90844876],\n",
       "          [ 0.90844876],\n",
       "          [ 0.86895096],\n",
       "          ...,\n",
       "          [10.0324335 ],\n",
       "          [10.0324335 ],\n",
       "          [ 9.992936  ]]],\n",
       "\n",
       "\n",
       "        [[[ 1.3034264 ],\n",
       "          [ 1.3034264 ],\n",
       "          [ 1.2639287 ],\n",
       "          ...,\n",
       "          [ 0.75045764],\n",
       "          [10.0324335 ],\n",
       "          [ 9.439967  ]],\n",
       "\n",
       "         [[ 1.3034264 ],\n",
       "          [ 1.3034264 ],\n",
       "          [ 1.2639287 ],\n",
       "          ...,\n",
       "          [ 0.07899554],\n",
       "          [ 9.4794655 ],\n",
       "          [ 9.55846   ]],\n",
       "\n",
       "         [[ 1.3034264 ],\n",
       "          [ 1.3034264 ],\n",
       "          [ 1.3034264 ],\n",
       "          ...,\n",
       "          [ 9.637456  ],\n",
       "          [ 9.637456  ],\n",
       "          [ 9.716452  ]],\n",
       "\n",
       "         ...,\n",
       "\n",
       "         [[ 0.86895096],\n",
       "          [ 0.86895096],\n",
       "          [ 0.86895096],\n",
       "          ...,\n",
       "          [10.071932  ],\n",
       "          [10.071932  ],\n",
       "          [10.071932  ]],\n",
       "\n",
       "         [[ 0.86895096],\n",
       "          [ 0.86895096],\n",
       "          [ 0.86895096],\n",
       "          ...,\n",
       "          [ 9.953438  ],\n",
       "          [ 9.992936  ],\n",
       "          [ 9.953438  ]],\n",
       "\n",
       "         [[ 0.90844876],\n",
       "          [ 0.86895096],\n",
       "          [ 0.86895096],\n",
       "          ...,\n",
       "          [ 9.953438  ],\n",
       "          [ 9.953438  ],\n",
       "          [ 9.953438  ]]],\n",
       "\n",
       "\n",
       "        [[[ 1.3034264 ],\n",
       "          [ 1.3034264 ],\n",
       "          [ 1.3034264 ],\n",
       "          ...,\n",
       "          [ 0.71095985],\n",
       "          [10.071932  ],\n",
       "          [ 9.439967  ]],\n",
       "\n",
       "         [[ 1.3034264 ],\n",
       "          [ 1.3034264 ],\n",
       "          [ 1.3034264 ],\n",
       "          ...,\n",
       "          [ 9.992936  ],\n",
       "          [ 9.597959  ],\n",
       "          [ 9.518963  ]],\n",
       "\n",
       "         [[ 1.2639287 ],\n",
       "          [ 1.2639287 ],\n",
       "          [ 1.2639287 ],\n",
       "          ...,\n",
       "          [ 9.676954  ],\n",
       "          [ 9.676954  ],\n",
       "          [ 9.755949  ]],\n",
       "\n",
       "         ...,\n",
       "\n",
       "         [[ 0.90844876],\n",
       "          [ 0.90844876],\n",
       "          [ 0.90844876],\n",
       "          ...,\n",
       "          [10.071932  ],\n",
       "          [10.071932  ],\n",
       "          [10.071932  ]],\n",
       "\n",
       "         [[ 0.90844876],\n",
       "          [ 0.90844876],\n",
       "          [ 0.90844876],\n",
       "          ...,\n",
       "          [ 9.953438  ],\n",
       "          [ 9.992936  ],\n",
       "          [ 9.953438  ]],\n",
       "\n",
       "         [[ 0.9479465 ],\n",
       "          [ 0.90844876],\n",
       "          [ 0.90844876],\n",
       "          ...,\n",
       "          [ 9.953438  ],\n",
       "          [ 9.953438  ],\n",
       "          [ 9.953438  ]]],\n",
       "\n",
       "\n",
       "        ...,\n",
       "\n",
       "\n",
       "        [[[ 1.4219197 ],\n",
       "          [ 1.4219197 ],\n",
       "          [ 1.4219197 ],\n",
       "          ...,\n",
       "          [ 0.5529688 ],\n",
       "          [ 0.86895096],\n",
       "          [ 0.47397324]],\n",
       "\n",
       "         [[ 1.3429242 ],\n",
       "          [ 1.3429242 ],\n",
       "          [ 1.3429242 ],\n",
       "          ...,\n",
       "          [ 0.5924666 ],\n",
       "          [ 0.86895096],\n",
       "          [ 0.03949777]],\n",
       "\n",
       "         [[ 1.3034264 ],\n",
       "          [ 1.3034264 ],\n",
       "          [ 1.3034264 ],\n",
       "          ...,\n",
       "          [ 0.23698662],\n",
       "          [ 0.43447548],\n",
       "          [ 9.755949  ]],\n",
       "\n",
       "         ...,\n",
       "\n",
       "         [[ 0.90844876],\n",
       "          [ 0.90844876],\n",
       "          [ 0.90844876],\n",
       "          ...,\n",
       "          [ 0.15799108],\n",
       "          [ 0.03949777],\n",
       "          [ 0.11849331]],\n",
       "\n",
       "         [[ 0.90844876],\n",
       "          [ 0.90844876],\n",
       "          [ 0.90844876],\n",
       "          ...,\n",
       "          [ 0.07899554],\n",
       "          [ 0.07899554],\n",
       "          [ 0.07899554]],\n",
       "\n",
       "         [[ 0.90844876],\n",
       "          [ 0.90844876],\n",
       "          [ 0.86895096],\n",
       "          ...,\n",
       "          [ 0.03949777],\n",
       "          [10.071932  ],\n",
       "          [10.071932  ]]],\n",
       "\n",
       "\n",
       "        [[[ 1.4219197 ],\n",
       "          [ 1.4219197 ],\n",
       "          [ 1.4614176 ],\n",
       "          ...,\n",
       "          [ 0.5924666 ],\n",
       "          [ 0.78995544],\n",
       "          [ 0.75045764]],\n",
       "\n",
       "         [[ 1.3429242 ],\n",
       "          [ 1.3429242 ],\n",
       "          [ 1.382422  ],\n",
       "          ...,\n",
       "          [ 0.513471  ],\n",
       "          [ 0.6714621 ],\n",
       "          [ 0.15799108]],\n",
       "\n",
       "         [[ 1.2639287 ],\n",
       "          [ 1.2639287 ],\n",
       "          [ 1.2639287 ],\n",
       "          ...,\n",
       "          [ 0.39497772],\n",
       "          [ 0.5529688 ],\n",
       "          [ 9.755949  ]],\n",
       "\n",
       "         ...,\n",
       "\n",
       "         [[ 0.90844876],\n",
       "          [ 0.90844876],\n",
       "          [ 0.90844876],\n",
       "          ...,\n",
       "          [ 0.07899554],\n",
       "          [10.071932  ],\n",
       "          [ 0.        ]],\n",
       "\n",
       "         [[ 0.90844876],\n",
       "          [ 0.90844876],\n",
       "          [ 0.86895096],\n",
       "          ...,\n",
       "          [ 0.07899554],\n",
       "          [ 0.        ],\n",
       "          [ 0.        ]],\n",
       "\n",
       "         [[ 0.90844876],\n",
       "          [ 0.86895096],\n",
       "          [ 0.86895096],\n",
       "          ...,\n",
       "          [10.071932  ],\n",
       "          [10.071932  ],\n",
       "          [10.071932  ]]],\n",
       "\n",
       "\n",
       "        [[[ 1.4219197 ],\n",
       "          [ 1.4219197 ],\n",
       "          [ 1.4614176 ],\n",
       "          ...,\n",
       "          [ 0.5924666 ],\n",
       "          [ 0.90844876],\n",
       "          [ 0.86895096]],\n",
       "\n",
       "         [[ 1.4219197 ],\n",
       "          [ 1.4219197 ],\n",
       "          [ 1.4614176 ],\n",
       "          ...,\n",
       "          [ 0.513471  ],\n",
       "          [ 0.90844876],\n",
       "          [ 0.39497772]],\n",
       "\n",
       "         [[ 1.3034264 ],\n",
       "          [ 1.3034264 ],\n",
       "          [ 1.3034264 ],\n",
       "          ...,\n",
       "          [ 0.43447548],\n",
       "          [ 0.5924666 ],\n",
       "          [ 9.795447  ]],\n",
       "\n",
       "         ...,\n",
       "\n",
       "         [[ 0.9479465 ],\n",
       "          [ 0.9479465 ],\n",
       "          [ 0.9479465 ],\n",
       "          ...,\n",
       "          [ 0.15799108],\n",
       "          [ 0.        ],\n",
       "          [ 0.        ]],\n",
       "\n",
       "         [[ 0.9479465 ],\n",
       "          [ 0.9479465 ],\n",
       "          [ 0.9479465 ],\n",
       "          ...,\n",
       "          [ 0.07899554],\n",
       "          [ 0.        ],\n",
       "          [10.071932  ]],\n",
       "\n",
       "         [[ 0.9479465 ],\n",
       "          [ 0.9479465 ],\n",
       "          [ 0.9479465 ],\n",
       "          ...,\n",
       "          [10.071932  ],\n",
       "          [10.071932  ],\n",
       "          [10.071932  ]]]],\n",
       "\n",
       "\n",
       "\n",
       "       [[[[ 1.5334007 ],\n",
       "          [ 1.4620796 ],\n",
       "          [ 1.4264191 ],\n",
       "          ...,\n",
       "          [ 0.24962336],\n",
       "          [ 0.28528383],\n",
       "          [ 0.28528383]],\n",
       "\n",
       "         [[ 1.569061  ],\n",
       "          [ 1.4620796 ],\n",
       "          [ 1.3907588 ],\n",
       "          ...,\n",
       "          [ 0.24962336],\n",
       "          [ 0.28528383],\n",
       "          [ 0.28528383]],\n",
       "\n",
       "         [[ 1.4620796 ],\n",
       "          [ 1.4620796 ],\n",
       "          [ 1.4264191 ],\n",
       "          ...,\n",
       "          [ 0.35660478],\n",
       "          [ 0.24962336],\n",
       "          [ 0.24962336]],\n",
       "\n",
       "         ...,\n",
       "\n",
       "         [[ 1.0341539 ],\n",
       "          [ 1.0341539 ],\n",
       "          [ 1.0341539 ],\n",
       "          ...,\n",
       "          [ 0.03566048],\n",
       "          [ 0.03566048],\n",
       "          [ 0.03566048]],\n",
       "\n",
       "         [[ 0.99849343],\n",
       "          [ 0.99849343],\n",
       "          [ 0.99849343],\n",
       "          ...,\n",
       "          [ 0.03566048],\n",
       "          [ 0.03566048],\n",
       "          [ 0.03566048]],\n",
       "\n",
       "         [[ 0.99849343],\n",
       "          [ 0.99849343],\n",
       "          [ 0.99849343],\n",
       "          ...,\n",
       "          [ 0.03566048],\n",
       "          [ 0.03566048],\n",
       "          [ 0.        ]]],\n",
       "\n",
       "\n",
       "        [[[ 1.4264191 ],\n",
       "          [ 1.4977401 ],\n",
       "          [ 1.3550982 ],\n",
       "          ...,\n",
       "          [ 0.3209443 ],\n",
       "          [ 0.3209443 ],\n",
       "          [ 0.3209443 ]],\n",
       "\n",
       "         [[ 1.4264191 ],\n",
       "          [ 1.4264191 ],\n",
       "          [ 1.2837772 ],\n",
       "          ...,\n",
       "          [ 0.3209443 ],\n",
       "          [ 0.3209443 ],\n",
       "          [ 0.3209443 ]],\n",
       "\n",
       "         [[ 1.4620796 ],\n",
       "          [ 1.4620796 ],\n",
       "          [ 1.4620796 ],\n",
       "          ...,\n",
       "          [ 0.35660478],\n",
       "          [ 0.35660478],\n",
       "          [ 0.35660478]],\n",
       "\n",
       "         ...,\n",
       "\n",
       "         [[ 1.0341539 ],\n",
       "          [ 1.0341539 ],\n",
       "          [ 1.0341539 ],\n",
       "          ...,\n",
       "          [ 0.        ],\n",
       "          [ 0.        ],\n",
       "          [ 0.        ]],\n",
       "\n",
       "         [[ 0.99849343],\n",
       "          [ 0.99849343],\n",
       "          [ 0.99849343],\n",
       "          ...,\n",
       "          [ 0.        ],\n",
       "          [ 0.03566048],\n",
       "          [ 0.        ]],\n",
       "\n",
       "         [[ 0.99849343],\n",
       "          [ 0.99849343],\n",
       "          [ 0.99849343],\n",
       "          ...,\n",
       "          [ 0.        ],\n",
       "          [ 0.        ],\n",
       "          [ 0.        ]]],\n",
       "\n",
       "\n",
       "        [[[ 1.3907588 ],\n",
       "          [ 1.4977401 ],\n",
       "          [ 1.3550982 ],\n",
       "          ...,\n",
       "          [ 0.3209443 ],\n",
       "          [ 0.3209443 ],\n",
       "          [ 0.3209443 ]],\n",
       "\n",
       "         [[ 1.3907588 ],\n",
       "          [ 1.4620796 ],\n",
       "          [ 1.4264191 ],\n",
       "          ...,\n",
       "          [ 0.3209443 ],\n",
       "          [ 0.3209443 ],\n",
       "          [ 0.3209443 ]],\n",
       "\n",
       "         [[ 1.3907588 ],\n",
       "          [ 1.3907588 ],\n",
       "          [ 1.3907588 ],\n",
       "          ...,\n",
       "          [ 0.39226526],\n",
       "          [ 0.35660478],\n",
       "          [ 0.35660478]],\n",
       "\n",
       "         ...,\n",
       "\n",
       "         [[ 1.0341539 ],\n",
       "          [ 1.0341539 ],\n",
       "          [ 1.0341539 ],\n",
       "          ...,\n",
       "          [ 0.03566048],\n",
       "          [ 0.03566048],\n",
       "          [ 0.03566048]],\n",
       "\n",
       "         [[ 0.99849343],\n",
       "          [ 0.99849343],\n",
       "          [ 0.99849343],\n",
       "          ...,\n",
       "          [ 0.        ],\n",
       "          [ 0.07132096],\n",
       "          [ 0.03566048]],\n",
       "\n",
       "         [[ 0.99849343],\n",
       "          [ 0.99849343],\n",
       "          [ 0.99849343],\n",
       "          ...,\n",
       "          [ 0.        ],\n",
       "          [ 0.03566048],\n",
       "          [ 0.03566048]]],\n",
       "\n",
       "\n",
       "        ...,\n",
       "\n",
       "\n",
       "        [[[ 1.5334007 ],\n",
       "          [ 1.4977401 ],\n",
       "          [ 1.3907588 ],\n",
       "          ...,\n",
       "          [ 0.24962336],\n",
       "          [ 0.24962336],\n",
       "          [ 0.24962336]],\n",
       "\n",
       "         [[ 1.4977401 ],\n",
       "          [ 1.4264191 ],\n",
       "          [ 1.3907588 ],\n",
       "          ...,\n",
       "          [ 0.24962336],\n",
       "          [ 0.24962336],\n",
       "          [ 0.24962336]],\n",
       "\n",
       "         [[ 1.3550982 ],\n",
       "          [ 1.3550982 ],\n",
       "          [ 1.3907588 ],\n",
       "          ...,\n",
       "          [ 0.3209443 ],\n",
       "          [ 0.35660478],\n",
       "          [ 0.35660478]],\n",
       "\n",
       "         ...,\n",
       "\n",
       "         [[ 1.0341539 ],\n",
       "          [ 1.0341539 ],\n",
       "          [ 1.0341539 ],\n",
       "          ...,\n",
       "          [ 0.03566048],\n",
       "          [ 0.07132096],\n",
       "          [ 0.07132096]],\n",
       "\n",
       "         [[ 1.0341539 ],\n",
       "          [ 1.0341539 ],\n",
       "          [ 0.99849343],\n",
       "          ...,\n",
       "          [ 0.03566048],\n",
       "          [ 0.03566048],\n",
       "          [ 0.03566048]],\n",
       "\n",
       "         [[ 0.99849343],\n",
       "          [ 0.99849343],\n",
       "          [ 0.99849343],\n",
       "          ...,\n",
       "          [ 0.03566048],\n",
       "          [ 0.03566048],\n",
       "          [ 0.        ]]],\n",
       "\n",
       "\n",
       "        [[[ 1.5334007 ],\n",
       "          [ 1.4264191 ],\n",
       "          [ 1.4977401 ],\n",
       "          ...,\n",
       "          [ 0.28528383],\n",
       "          [ 0.24962336],\n",
       "          [ 0.24962336]],\n",
       "\n",
       "         [[ 1.4977401 ],\n",
       "          [ 1.4977401 ],\n",
       "          [ 1.4620796 ],\n",
       "          ...,\n",
       "          [ 0.28528383],\n",
       "          [ 0.24962336],\n",
       "          [ 0.24962336]],\n",
       "\n",
       "         [[ 1.4264191 ],\n",
       "          [ 1.4264191 ],\n",
       "          [ 1.4264191 ],\n",
       "          ...,\n",
       "          [ 0.35660478],\n",
       "          [ 0.35660478],\n",
       "          [ 0.35660478]],\n",
       "\n",
       "         ...,\n",
       "\n",
       "         [[ 1.0698143 ],\n",
       "          [ 1.0341539 ],\n",
       "          [ 1.0341539 ],\n",
       "          ...,\n",
       "          [ 0.        ],\n",
       "          [ 0.07132096],\n",
       "          [ 0.07132096]],\n",
       "\n",
       "         [[ 1.0698143 ],\n",
       "          [ 1.0341539 ],\n",
       "          [ 1.0341539 ],\n",
       "          ...,\n",
       "          [ 0.        ],\n",
       "          [ 0.03566048],\n",
       "          [ 0.03566048]],\n",
       "\n",
       "         [[ 1.0698143 ],\n",
       "          [ 0.99849343],\n",
       "          [ 0.99849343],\n",
       "          ...,\n",
       "          [ 0.        ],\n",
       "          [ 0.03566048],\n",
       "          [ 0.        ]]],\n",
       "\n",
       "\n",
       "        [[[ 1.4977401 ],\n",
       "          [ 1.3550982 ],\n",
       "          [ 1.4620796 ],\n",
       "          ...,\n",
       "          [ 0.28528383],\n",
       "          [ 0.28528383],\n",
       "          [ 0.24962336]],\n",
       "\n",
       "         [[ 1.4977401 ],\n",
       "          [ 1.4620796 ],\n",
       "          [ 1.3907588 ],\n",
       "          ...,\n",
       "          [ 0.28528383],\n",
       "          [ 0.28528383],\n",
       "          [ 0.24962336]],\n",
       "\n",
       "         [[ 1.4264191 ],\n",
       "          [ 1.4264191 ],\n",
       "          [ 1.4264191 ],\n",
       "          ...,\n",
       "          [ 0.28528383],\n",
       "          [ 0.28528383],\n",
       "          [ 0.21396288]],\n",
       "\n",
       "         ...,\n",
       "\n",
       "         [[ 1.0698143 ],\n",
       "          [ 1.0341539 ],\n",
       "          [ 1.0341539 ],\n",
       "          ...,\n",
       "          [ 0.03566048],\n",
       "          [ 0.07132096],\n",
       "          [ 0.07132096]],\n",
       "\n",
       "         [[ 1.0698143 ],\n",
       "          [ 1.0341539 ],\n",
       "          [ 1.0341539 ],\n",
       "          ...,\n",
       "          [ 0.07132096],\n",
       "          [ 0.03566048],\n",
       "          [ 0.03566048]],\n",
       "\n",
       "         [[ 1.0698143 ],\n",
       "          [ 0.99849343],\n",
       "          [ 0.99849343],\n",
       "          ...,\n",
       "          [ 0.07132096],\n",
       "          [ 0.03566048],\n",
       "          [ 0.        ]]]]], dtype=float32)"
      ]
     },
     "execution_count": 53,
     "metadata": {},
     "output_type": "execute_result"
    }
   ],
   "source": [
    "val = sample.next(); val[0]"
   ]
  },
  {
   "cell_type": "code",
   "execution_count": 67,
   "id": "c33a87a2-d5e0-4ec9-b174-73ebf41bf03a",
   "metadata": {
    "tags": []
   },
   "outputs": [
    {
     "data": {
      "text/plain": [
       "<matplotlib.image.AxesImage at 0x178ce47f370>"
      ]
     },
     "execution_count": 67,
     "metadata": {},
     "output_type": "execute_result"
    },
    {
     "data": {
      "image/png": "[encoded data removed]",
      "text/plain": [
       "<Figure size 640x480 with 1 Axes>"
      ]
     },
     "metadata": {},
     "output_type": "display_data"
    }
   ],
   "source": [
    "# 0:videos, 0: 1st video out of the batch,  0: return the first frame in the video \n",
    "plt.imshow(val[0][0][35])"
   ]
  },
  {
   "cell_type": "code",
   "execution_count": 68,
   "id": "84593332-133c-4205-b7a6-8e235d5e2b3b",
   "metadata": {
    "tags": []
   },
   "outputs": [
    {
     "data": {
      "text/plain": [
       "<tf.Tensor: shape=(), dtype=string, numpy=b'set green by p four now'>"
      ]
     },
     "execution_count": 68,
     "metadata": {},
     "output_type": "execute_result"
    }
   ],
   "source": [
    "tf.strings.reduce_join([num_to_char(word) for word in val[1][0]])"
   ]
  },
  {
   "cell_type": "markdown",
   "id": "0f47733c-83bc-465c-b118-b198b492ad37",
   "metadata": {
    "tags": []
   },
   "source": [
    "# 3. Design the Deep Neural Network"
   ]
  },
  {
   "cell_type": "code",
   "execution_count": 69,
   "id": "d8e9a497-191b-4842-afbd-26f5e13c43ba",
   "metadata": {
    "tags": []
   },
   "outputs": [],
   "source": [
    "from tensorflow.keras.models import Sequential \n",
    "from tensorflow.keras.layers import Conv3D, LSTM, Dense, Dropout, Bidirectional, MaxPool3D, Activation, Reshape, SpatialDropout3D, BatchNormalization, TimeDistributed, Flatten\n",
    "from tensorflow.keras.optimizers import Adam\n",
    "from tensorflow.keras.callbacks import ModelCheckpoint, LearningRateScheduler"
   ]
  },
  {
   "cell_type": "code",
   "execution_count": 70,
   "id": "3f753ed2-70b9-4236-8c1c-08ca065dc8bf",
   "metadata": {},
   "outputs": [
    {
     "data": {
      "text/plain": [
       "(75, 46, 140, 1)"
      ]
     },
     "execution_count": 70,
     "metadata": {},
     "output_type": "execute_result"
    }
   ],
   "source": [
    "data.as_numpy_iterator().next()[0][0].shape"
   ]
  },
  {
   "cell_type": "code",
   "execution_count": 71,
   "id": "f9171056-a352-491a-9ed9-92b28ced268e",
   "metadata": {
    "tags": []
   },
   "outputs": [],
   "source": [
    "model = Sequential()\n",
    "model.add(Conv3D(128, 3, input_shape=(75,46,140,1), padding='same'))\n",
    "model.add(Activation('relu'))\n",
    "model.add(MaxPool3D((1,2,2)))\n",
    "\n",
    "model.add(Conv3D(256, 3, padding='same'))\n",
    "model.add(Activation('relu'))\n",
    "model.add(MaxPool3D((1,2,2)))\n",
    "\n",
    "model.add(Conv3D(75, 3, padding='same'))\n",
    "model.add(Activation('relu'))\n",
    "model.add(MaxPool3D((1,2,2)))\n",
    "\n",
    "model.add(TimeDistributed(Flatten()))\n",
    "\n",
    "model.add(Bidirectional(LSTM(128, kernel_initializer='Orthogonal', return_sequences=True)))\n",
    "model.add(Dropout(.5))\n",
    "\n",
    "model.add(Bidirectional(LSTM(128, kernel_initializer='Orthogonal', return_sequences=True)))\n",
    "model.add(Dropout(.5))\n",
    "\n",
    "model.add(Dense(char_to_num.vocabulary_size()+1, kernel_initializer='he_normal', activation='softmax'))"
   ]
  },
  {
   "cell_type": "code",
   "execution_count": 72,
   "id": "78851825-2bcd-42a9-b7f2-28bb5a6bf43a",
   "metadata": {
    "collapsed": true,
    "jupyter": {
     "outputs_hidden": true
    },
    "tags": []
   },
   "outputs": [
    {
     "name": "stdout",
     "output_type": "stream",
     "text": [
      "Model: \"sequential\"\n",
      "_________________________________________________________________\n",
      " Layer (type)                Output Shape              Param #   \n",
      "=================================================================\n",
      " conv3d (Conv3D)             (None, 75, 46, 140, 128   3584      \n",
      "                             )                                   \n",
      "                                                                 \n",
      " activation (Activation)     (None, 75, 46, 140, 128   0         \n",
      "                             )                                   \n",
      "                                                                 \n",
      " max_pooling3d (MaxPooling3  (None, 75, 23, 70, 128)   0         \n",
      " D)                                                              \n",
      "                                                                 \n",
      " conv3d_1 (Conv3D)           (None, 75, 23, 70, 256)   884992    \n",
      "                                                                 \n",
      " activation_1 (Activation)   (None, 75, 23, 70, 256)   0         \n",
      "                                                                 \n",
      " max_pooling3d_1 (MaxPoolin  (None, 75, 11, 35, 256)   0         \n",
      " g3D)                                                            \n",
      "                                                                 \n",
      " conv3d_2 (Conv3D)           (None, 75, 11, 35, 75)    518475    \n",
      "                                                                 \n",
      " activation_2 (Activation)   (None, 75, 11, 35, 75)    0         \n",
      "                                                                 \n",
      " max_pooling3d_2 (MaxPoolin  (None, 75, 5, 17, 75)     0         \n",
      " g3D)                                                            \n",
      "                                                                 \n",
      " time_distributed (TimeDist  (None, 75, 6375)          0         \n",
      " ributed)                                                        \n",
      "                                                                 \n",
      " bidirectional (Bidirection  (None, 75, 256)           6660096   \n",
      " al)                                                             \n",
      "                                                                 \n",
      " dropout (Dropout)           (None, 75, 256)           0         \n",
      "                                                                 \n",
      " bidirectional_1 (Bidirecti  (None, 75, 256)           394240    \n",
      " onal)                                                           \n",
      "                                                                 \n",
      " dropout_1 (Dropout)         (None, 75, 256)           0         \n",
      "                                                                 \n",
      " dense (Dense)               (None, 75, 41)            10537     \n",
      "                                                                 \n",
      "=================================================================\n",
      "Total params: 8471924 (32.32 MB)\n",
      "Trainable params: 8471924 (32.32 MB)\n",
      "Non-trainable params: 0 (0.00 Byte)\n",
      "_________________________________________________________________\n"
     ]
    }
   ],
   "source": [
    "model.summary()"
   ]
  },
  {
   "cell_type": "code",
   "execution_count": 73,
   "id": "f4b4798c-a65a-4c47-9e2a-3b09dc98d320",
   "metadata": {},
   "outputs": [
    {
     "data": {
      "text/plain": [
       "6375"
      ]
     },
     "execution_count": 73,
     "metadata": {},
     "output_type": "execute_result"
    }
   ],
   "source": [
    "5*17*75"
   ]
  },
  {
   "cell_type": "code",
   "execution_count": 74,
   "id": "e5c2eae0-c359-41a4-97a0-75c44dccb7d1",
   "metadata": {
    "tags": []
   },
   "outputs": [
    {
     "name": "stdout",
     "output_type": "stream",
     "text": [
      "1/1 [==============================] - 3s 3s/step\n"
     ]
    }
   ],
   "source": [
    "yhat = model.predict(val[0])"
   ]
  },
  {
   "cell_type": "code",
   "execution_count": 75,
   "id": "ffdc7319-0d69-4f7e-a6d4-ce72deb81c0b",
   "metadata": {},
   "outputs": [
    {
     "data": {
      "text/plain": [
       "<tf.Tensor: shape=(), dtype=string, numpy=b'599999999999999999999999999999999999999999999999999999999999999999999wwwwww'>"
      ]
     },
     "execution_count": 75,
     "metadata": {},
     "output_type": "execute_result"
    }
   ],
   "source": [
    "tf.strings.reduce_join([num_to_char(x) for x in tf.argmax(yhat[0],axis=1)])"
   ]
  },
  {
   "cell_type": "code",
   "execution_count": 76,
   "id": "6ed47531-8317-4255-9a12-b757642258e6",
   "metadata": {
    "tags": []
   },
   "outputs": [
    {
     "data": {
      "text/plain": [
       "<tf.Tensor: shape=(), dtype=string, numpy=b'599999999999999999999999999999999999999999999999999999999999999999999wwwwww'>"
      ]
     },
     "execution_count": 76,
     "metadata": {},
     "output_type": "execute_result"
    }
   ],
   "source": [
    "tf.strings.reduce_join([num_to_char(tf.argmax(x)) for x in yhat[0]])"
   ]
  },
  {
   "cell_type": "code",
   "execution_count": 77,
   "id": "7c37b9b9-5298-4038-9c33-5031d1b457f0",
   "metadata": {
    "tags": []
   },
   "outputs": [
    {
     "data": {
      "text/plain": [
       "(None, 75, 46, 140, 1)"
      ]
     },
     "execution_count": 77,
     "metadata": {},
     "output_type": "execute_result"
    }
   ],
   "source": [
    "model.input_shape"
   ]
  },
  {
   "cell_type": "code",
   "execution_count": 78,
   "id": "98b316a4-5322-4782-8e36-4b3c1a696d85",
   "metadata": {
    "tags": []
   },
   "outputs": [
    {
     "data": {
      "text/plain": [
       "(None, 75, 41)"
      ]
     },
     "execution_count": 78,
     "metadata": {},
     "output_type": "execute_result"
    }
   ],
   "source": [
    "model.output_shape"
   ]
  },
  {
   "cell_type": "markdown",
   "id": "2ec02176-5c26-46c3-aff7-8352e6563c7d",
   "metadata": {
    "tags": []
   },
   "source": [
    "# 4. Setup Training Options and Train"
   ]
  },
  {
   "cell_type": "code",
   "execution_count": 79,
   "id": "ab015fd0-7fb4-4d5d-9fa2-30a05dbd515a",
   "metadata": {
    "tags": []
   },
   "outputs": [],
   "source": [
    "def scheduler(epoch, lr):\n",
    "    if epoch < 30:\n",
    "        return lr\n",
    "    else:\n",
    "        return lr * tf.math.exp(-0.1)"
   ]
  },
  {
   "cell_type": "code",
   "execution_count": 81,
   "id": "c564d5c9-db54-4e88-b311-9aeab7fb3e69",
   "metadata": {
    "tags": []
   },
   "outputs": [],
   "source": [
    "def CTCLoss(y_true, y_pred):\n",
    "    batch_len = tf.cast(tf.shape(y_true)[0], dtype=\"int64\")\n",
    "    input_length = tf.cast(tf.shape(y_pred)[1], dtype=\"int64\")\n",
    "    label_length = tf.cast(tf.shape(y_true)[1], dtype=\"int64\")\n",
    "\n",
    "    input_length = input_length * tf.ones(shape=(batch_len, 1), dtype=\"int64\")\n",
    "    label_length = label_length * tf.ones(shape=(batch_len, 1), dtype=\"int64\")\n",
    "\n",
    "    loss = tf.keras.backend.ctc_batch_cost(y_true, y_pred, input_length, label_length)\n",
    "    return loss"
   ]
  },
  {
   "cell_type": "code",
   "execution_count": 82,
   "id": "a26dc3fc-a19c-4378-bd8c-e2b597a1d15c",
   "metadata": {
    "tags": []
   },
   "outputs": [],
   "source": [
    "class ProduceExample(tf.keras.callbacks.Callback): \n",
    "    def __init__(self, dataset) -> None: \n",
    "        self.dataset = dataset.as_numpy_iterator()\n",
    "    \n",
    "    def on_epoch_end(self, epoch, logs=None) -> None:\n",
    "        data = self.dataset.next()\n",
    "        yhat = self.model.predict(data[0])\n",
    "        decoded = tf.keras.backend.ctc_decode(yhat, [75,75], greedy=False)[0][0].numpy()\n",
    "        for x in range(len(yhat)):           \n",
    "            print('Original:', tf.strings.reduce_join(num_to_char(data[1][x])).numpy().decode('utf-8'))\n",
    "            print('Prediction:', tf.strings.reduce_join(num_to_char(decoded[x])).numpy().decode('utf-8'))\n",
    "            print('~'*100)"
   ]
  },
  {
   "cell_type": "code",
   "execution_count": 48,
   "id": "04be90d8-2482-46f9-b513-d5f4f8001c7e",
   "metadata": {
    "tags": []
   },
   "outputs": [],
   "source": [
    "model.compile(optimizer=Adam(learning_rate=0.0001), loss=CTCLoss)"
   ]
  },
  {
   "cell_type": "code",
   "execution_count": 49,
   "id": "eab49367-3f1e-4464-ae76-dbd07549d97e",
   "metadata": {
    "tags": []
   },
   "outputs": [],
   "source": [
    "checkpoint_callback = ModelCheckpoint(os.path.join('models','checkpoint'), monitor='loss', save_weights_only=True) "
   ]
  },
  {
   "cell_type": "code",
   "execution_count": 50,
   "id": "e085a632-d464-46ef-8777-959cad4adb2c",
   "metadata": {
    "tags": []
   },
   "outputs": [],
   "source": [
    "schedule_callback = LearningRateScheduler(scheduler)"
   ]
  },
  {
   "cell_type": "code",
   "execution_count": 51,
   "id": "48eca991-90ab-4592-8a79-b50e9ca015b6",
   "metadata": {
    "tags": []
   },
   "outputs": [],
   "source": [
    "example_callback = ProduceExample(test)"
   ]
  },
  {
   "cell_type": "code",
   "execution_count": 52,
   "id": "8ffba483-aa61-4bbe-a15f-a73e1ddf097c",
   "metadata": {
    "tags": []
   },
   "outputs": [
    {
     "name": "stdout",
     "output_type": "stream",
     "text": [
      "Epoch 1/100\n",
      "  2/450 [..............................] - ETA: 3:03 - loss: 213.9969 "
     ]
    },
    {
     "name": "stderr",
     "output_type": "stream",
     "text": [
      "\n",
      "KeyboardInterrupt\n",
      "\n"
     ]
    }
   ],
   "source": [
    "model.fit(train, validation_data=test, epochs=100, callbacks=[checkpoint_callback, schedule_callback, example_callback])"
   ]
  },
  {
   "cell_type": "markdown",
   "id": "fa8ee94b-89f7-4733-8a0c-a86f86ff590a",
   "metadata": {
    "tags": []
   },
   "source": [
    "# 5. Make a Prediction "
   ]
  },
  {
   "cell_type": "code",
   "execution_count": null,
   "id": "01fa7204-ce0e-49a8-8dbd-14fe5dfead40",
   "metadata": {
    "tags": []
   },
   "outputs": [],
   "source": [
    "url = 'https://drive.google.com/uc?id=1vWscXs4Vt0a_1IH1-ct2TCgXAZT-N3_Y'\n",
    "output = 'checkpoints.zip'\n",
    "gdown.download(url, output, quiet=False)\n",
    "gdown.extractall('checkpoints.zip', 'models')"
   ]
  },
  {
   "cell_type": "code",
   "execution_count": 89,
   "id": "247f664d-3c87-4e96-946e-930dad0e1c2c",
   "metadata": {
    "tags": []
   },
   "outputs": [
    {
     "data": {
      "text/plain": [
       "<tensorflow.python.checkpoint.checkpoint.CheckpointLoadStatus at 0x178ce332310>"
      ]
     },
     "execution_count": 89,
     "metadata": {},
     "output_type": "execute_result"
    }
   ],
   "source": [
    "model.load_weights('models/checkpoint')"
   ]
  },
  {
   "cell_type": "code",
   "execution_count": 85,
   "id": "7f8d689f-b7bb-443c-9b88-e40c1d800828",
   "metadata": {
    "tags": []
   },
   "outputs": [],
   "source": [
    "test_data = test.as_numpy_iterator()"
   ]
  },
  {
   "cell_type": "code",
   "execution_count": 90,
   "id": "38546dc2-bee9-4837-864b-8a884df40ad7",
   "metadata": {
    "tags": []
   },
   "outputs": [],
   "source": [
    "sample = test_data.next()"
   ]
  },
  {
   "cell_type": "code",
   "execution_count": 91,
   "id": "a43621f0-229d-4c0d-9554-9c3a3da9c61a",
   "metadata": {
    "tags": []
   },
   "outputs": [
    {
     "name": "stdout",
     "output_type": "stream",
     "text": [
      "1/1 [==============================] - 2s 2s/step\n"
     ]
    }
   ],
   "source": [
    "yhat = model.predict(sample[0])"
   ]
  },
  {
   "cell_type": "code",
   "execution_count": 92,
   "id": "ea462999-f87e-4a7e-a057-5be7b6d8f7d5",
   "metadata": {
    "tags": []
   },
   "outputs": [
    {
     "name": "stdout",
     "output_type": "stream",
     "text": [
      "~~~~~~~~~~~~~~~~~~~~~~~~~~~~~~~~~~~~~~~~~~~~~~~~~~~~~~~~~~~~~~~~~~~~~~~~~~~~~~~~~~~~~~~~~~~~~~~~~~~~ REAL TEXT\n"
     ]
    },
    {
     "data": {
      "text/plain": [
       "[<tf.Tensor: shape=(), dtype=string, numpy=b'lay green by m four please'>,\n",
       " <tf.Tensor: shape=(), dtype=string, numpy=b'place green in q three soon'>]"
      ]
     },
     "execution_count": 92,
     "metadata": {},
     "output_type": "execute_result"
    }
   ],
   "source": [
    "print('~'*100, 'REAL TEXT')\n",
    "[tf.strings.reduce_join([num_to_char(word) for word in sentence]) for sentence in sample[1]]"
   ]
  },
  {
   "cell_type": "code",
   "execution_count": 93,
   "id": "82bd4c10-dd6e-411e-834b-2a3b43fd12c5",
   "metadata": {
    "tags": []
   },
   "outputs": [],
   "source": [
    "decoded = tf.keras.backend.ctc_decode(yhat, input_length=[75,75], greedy=True)[0][0].numpy()"
   ]
  },
  {
   "cell_type": "code",
   "execution_count": 94,
   "id": "5d68ac46-c90b-4eab-a709-f19aee569ff5",
   "metadata": {
    "tags": []
   },
   "outputs": [
    {
     "name": "stdout",
     "output_type": "stream",
     "text": [
      "~~~~~~~~~~~~~~~~~~~~~~~~~~~~~~~~~~~~~~~~~~~~~~~~~~~~~~~~~~~~~~~~~~~~~~~~~~~~~~~~~~~~~~~~~~~~~~~~~~~~ PREDICTIONS\n"
     ]
    },
    {
     "data": {
      "text/plain": [
       "[<tf.Tensor: shape=(), dtype=string, numpy=b'lay green by four please'>,\n",
       " <tf.Tensor: shape=(), dtype=string, numpy=b'place green in three soon'>]"
      ]
     },
     "execution_count": 94,
     "metadata": {},
     "output_type": "execute_result"
    }
   ],
   "source": [
    "print('~'*100, 'PREDICTIONS')\n",
    "[tf.strings.reduce_join([num_to_char(word) for word in sentence]) for sentence in decoded]"
   ]
  },
  {
   "cell_type": "markdown",
   "id": "64622f98-e99b-4fed-a2cc-f0da82eb5431",
   "metadata": {},
   "source": [
    "# Test on a Video"
   ]
  },
  {
   "cell_type": "code",
   "execution_count": 107,
   "id": "a8b0c4d0-2031-4331-b91d-d87b1ae6f6e2",
   "metadata": {},
   "outputs": [],
   "source": [
    "sample = load_data(tf.convert_to_tensor('.\\\\data\\\\s1\\\\swwp5a.mpg'))"
   ]
  },
  {
   "cell_type": "code",
   "execution_count": 108,
   "id": "0cca60e4-47a9-4683-8a75-48f4684f723d",
   "metadata": {},
   "outputs": [
    {
     "name": "stdout",
     "output_type": "stream",
     "text": [
      "~~~~~~~~~~~~~~~~~~~~~~~~~~~~~~~~~~~~~~~~~~~~~~~~~~~~~~~~~~~~~~~~~~~~~~~~~~~~~~~~~~~~~~~~~~~~~~~~~~~~ REAL TEXT\n"
     ]
    },
    {
     "data": {
      "text/plain": [
       "[<tf.Tensor: shape=(), dtype=string, numpy=b'set white with p five again'>]"
      ]
     },
     "execution_count": 108,
     "metadata": {},
     "output_type": "execute_result"
    }
   ],
   "source": [
    "print('~'*100, 'REAL TEXT')\n",
    "[tf.strings.reduce_join([num_to_char(word) for word in sentence]) for sentence in [sample[1]]]"
   ]
  },
  {
   "cell_type": "code",
   "execution_count": 109,
   "id": "8cc5037c-1e32-435c-b0cc-01e1fb3b863c",
   "metadata": {},
   "outputs": [
    {
     "name": "stdout",
     "output_type": "stream",
     "text": [
      "1/1 [==============================] - 1s 735ms/step\n"
     ]
    }
   ],
   "source": [
    "yhat = model.predict(tf.expand_dims(sample[0], axis=0))"
   ]
  },
  {
   "cell_type": "code",
   "execution_count": 110,
   "id": "22c4f77d-715d-409f-bc5e-3ebe48704e8f",
   "metadata": {},
   "outputs": [],
   "source": [
    "decoded = tf.keras.backend.ctc_decode(yhat, input_length=[75], greedy=True)[0][0].numpy()"
   ]
  },
  {
   "cell_type": "code",
   "execution_count": 111,
   "id": "e4d12ecc-b634-499e-a4bc-db9f010835fb",
   "metadata": {},
   "outputs": [
    {
     "name": "stdout",
     "output_type": "stream",
     "text": [
      "~~~~~~~~~~~~~~~~~~~~~~~~~~~~~~~~~~~~~~~~~~~~~~~~~~~~~~~~~~~~~~~~~~~~~~~~~~~~~~~~~~~~~~~~~~~~~~~~~~~~ PREDICTIONS\n"
     ]
    },
    {
     "data": {
      "text/plain": [
       "[<tf.Tensor: shape=(), dtype=string, numpy=b'set white with five again'>]"
      ]
     },
     "execution_count": 111,
     "metadata": {},
     "output_type": "execute_result"
    }
   ],
   "source": [
    "print('~'*100, 'PREDICTIONS')\n",
    "[tf.strings.reduce_join([num_to_char(word) for word in sentence]) for sentence in decoded]"
   ]
  }
 ],
 "metadata": {
  "kernelspec": {
   "display_name": "Python 3",
   "language": "python",
   "name": "python3"
  },
  "language_info": {
   "codemirror_mode": {
    "name": "ipython",
    "version": 3
   },
   "file_extension": ".py",
   "mimetype": "text/x-python",
   "name": "python",
   "nbconvert_exporter": "python",
   "pygments_lexer": "ipython3",
   "version": "3.9.0"
  }
 },
 "nbformat": 4,
 "nbformat_minor": 5
}
